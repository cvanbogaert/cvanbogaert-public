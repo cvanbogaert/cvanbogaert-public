{
 "cells": [
  {
   "cell_type": "code",
   "execution_count": null,
   "metadata": {},
   "outputs": [],
   "source": [
    "#!/usr/bin/python\n",
    "\n",
    "import tensorflow as tf\n",
    "import numpy as np\n",
    "import codecs\n",
    "import json\n",
    "\n",
    "vocab_filename = 'vocab.json'\n",
    "model_filename = 'best.hdf5'\n",
    "sample_text_size = 1000\n",
    "temperature = 0.04\n",
    "\n",
    "with codecs.open(vocab_filename, 'r', encoding='utf-8') as f:\n",
    "    vocab = json.loads(f.read())\n",
    "\n",
    "num_classes = len(vocab)+1\n",
    "\n",
    "model = tf.keras.models.load_model(model_filename)\n",
    "\n",
    "model.summary()\n",
    "\n",
    "input_shape = model.input_shape\n",
    "\n",
    "print input_shape\n",
    "\n",
    "data = np.random.randint(num_classes,high=None, size=input_shape)\n",
    "\n",
    "print data\n",
    "\n",
    "p = model."
   ]
  },
  {
   "cell_type": "code",
   "execution_count": null,
   "metadata": {},
   "outputs": [],
   "source": []
  }
 ],
 "metadata": {
  "kernelspec": {
   "display_name": "Python 2",
   "language": "python",
   "name": "python2"
  },
  "language_info": {
   "codemirror_mode": {
    "name": "ipython",
    "version": 2
   },
   "file_extension": ".py",
   "mimetype": "text/x-python",
   "name": "python",
   "nbconvert_exporter": "python",
   "pygments_lexer": "ipython2",
   "version": "2.7.15rc1"
  }
 },
 "nbformat": 4,
 "nbformat_minor": 2
}
